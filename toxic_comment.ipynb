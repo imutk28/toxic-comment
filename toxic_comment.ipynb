{
  "nbformat": 4,
  "nbformat_minor": 0,
  "metadata": {
    "colab": {
      "name": "toxic comment",
      "provenance": [],
      "collapsed_sections": []
    },
    "kernelspec": {
      "name": "python3",
      "display_name": "Python 3"
    }
  },
  "cells": [
    {
      "cell_type": "code",
      "metadata": {
        "id": "wuHzJdk2-NtS",
        "colab_type": "code",
        "colab": {}
      },
      "source": [
        "!pip install -U -q PyDrive\n",
        "from pydrive.auth import GoogleAuth\n",
        "from pydrive.drive import GoogleDrive\n",
        "from google.colab import auth\n",
        "from oauth2client.client import GoogleCredentials"
      ],
      "execution_count": 1,
      "outputs": []
    },
    {
      "cell_type": "code",
      "metadata": {
        "id": "_QXTQ7Rk-pWP",
        "colab_type": "code",
        "colab": {}
      },
      "source": [
        "auth.authenticate_user()\n",
        "gauth = GoogleAuth()\n",
        "gauth.credentials = GoogleCredentials.get_application_default()\n",
        "drive = GoogleDrive(gauth)"
      ],
      "execution_count": 2,
      "outputs": []
    },
    {
      "cell_type": "code",
      "metadata": {
        "id": "ciaLs228cq9M",
        "colab_type": "code",
        "colab": {}
      },
      "source": [
        "downloaded = drive.CreateFile({'id':'13y28pFPbulmcrZHh77kq3fFJXxYfxnch'}) # replace the id with id of file you want to access\n",
        "downloaded.GetContentFile('train.csv') \n",
        "downloaded = drive.CreateFile({'id':'1UmL3P6Ig2Gq0DoyGJRVfQRYCQbSs7SMS'}) # replace the id with id of file you want to access\n",
        "downloaded.GetContentFile('test.csv')"
      ],
      "execution_count": 3,
      "outputs": []
    },
    {
      "cell_type": "code",
      "metadata": {
        "id": "RtnKscTnProZ",
        "colab_type": "code",
        "colab": {}
      },
      "source": [
        "downloaded = drive.CreateFile({'id':'1xb6RClnre3BF_U-LawftSpMP_Ej37j4f'}) # replace the id with id of file you want to access\n",
        "downloaded.GetContentFile('sample.csv')"
      ],
      "execution_count": 4,
      "outputs": []
    },
    {
      "cell_type": "code",
      "metadata": {
        "id": "e0xTqglx_bZw",
        "colab_type": "code",
        "colab": {}
      },
      "source": [
        "import pandas as pd\n",
        "train=pd.read_csv('train.csv') \n",
        "test=pd.read_csv('test.csv')"
      ],
      "execution_count": 5,
      "outputs": []
    },
    {
      "cell_type": "code",
      "metadata": {
        "id": "0gO7KNgi_pTw",
        "colab_type": "code",
        "colab": {}
      },
      "source": [
        "train.head()\n",
        "sample=pd.read_csv('sample.csv')"
      ],
      "execution_count": 6,
      "outputs": []
    },
    {
      "cell_type": "code",
      "metadata": {
        "id": "YHDhe8iRMZaZ",
        "colab_type": "code",
        "colab": {
          "base_uri": "https://localhost:8080/",
          "height": 168
        },
        "outputId": "4cb1dd5a-90de-4eb9-a211-cff4b1e02e29"
      },
      "source": [
        "train.isnull().sum()"
      ],
      "execution_count": 7,
      "outputs": [
        {
          "output_type": "execute_result",
          "data": {
            "text/plain": [
              "id               0\n",
              "comment_text     0\n",
              "toxic            0\n",
              "severe_toxic     0\n",
              "obscene          0\n",
              "threat           0\n",
              "insult           0\n",
              "identity_hate    0\n",
              "dtype: int64"
            ]
          },
          "metadata": {
            "tags": []
          },
          "execution_count": 7
        }
      ]
    },
    {
      "cell_type": "code",
      "metadata": {
        "id": "6S5N9dkC_4WL",
        "colab_type": "code",
        "colab": {
          "base_uri": "https://localhost:8080/",
          "height": 335
        },
        "outputId": "6bb62b94-588c-4cf3-b04f-8dfb51b09550"
      },
      "source": [
        "import matplotlib.pyplot as plt\n",
        "\n",
        "plt.subplot(2, 3, 1)\n",
        "plt.hist(train['toxic'],bins=10)\n",
        "\n",
        "plt.subplot(2, 3, 2)\n",
        "plt.hist(train['severe_toxic'],bins=10)\n",
        "\n",
        "plt.subplot(2, 3, 3)\n",
        "plt.hist(train['obscene'],bins=10)\n",
        "\n",
        "plt.subplot(2, 3, 4)\n",
        "plt.hist(train['threat'],bins=10)\n",
        "\n",
        "plt.subplot(2, 3, 5)\n",
        "plt.hist(train['insult'],bins=10)\n",
        "\n",
        "plt.subplot(2, 3, 6)\n",
        "plt.hist(train['identity_hate'],bins=10)"
      ],
      "execution_count": 8,
      "outputs": [
        {
          "output_type": "execute_result",
          "data": {
            "text/plain": [
              "(array([158166.,      0.,      0.,      0.,      0.,      0.,      0.,\n",
              "             0.,      0.,   1405.]),\n",
              " array([0. , 0.1, 0.2, 0.3, 0.4, 0.5, 0.6, 0.7, 0.8, 0.9, 1. ]),\n",
              " <a list of 10 Patch objects>)"
            ]
          },
          "metadata": {
            "tags": []
          },
          "execution_count": 8
        },
        {
          "output_type": "display_data",
          "data": {
            "image/png": "[encoded data removed]",
            "text/plain": [
              "<Figure size 432x288 with 6 Axes>"
            ]
          },
          "metadata": {
            "tags": [],
            "needs_background": "light"
          }
        }
      ]
    },
    {
      "cell_type": "code",
      "metadata": {
        "id": "QGfjNso5LVjw",
        "colab_type": "code",
        "colab": {
          "base_uri": "https://localhost:8080/",
          "height": 296
        },
        "outputId": "2f4017da-2ed8-42e0-b4a1-71037576a34c"
      },
      "source": [
        "leng=0\n",
        "length=[(leng+len(x)) for x in train['comment_text']]\n",
        "plt.hist(length,bins=10)\n",
        "plt.xlabel('length of words')\n",
        "plt.ylabel('frequency')"
      ],
      "execution_count": 9,
      "outputs": [
        {
          "output_type": "execute_result",
          "data": {
            "text/plain": [
              "Text(0, 0.5, 'frequency')"
            ]
          },
          "metadata": {
            "tags": []
          },
          "execution_count": 9
        },
        {
          "output_type": "display_data",
          "data": {
            "image/png": "[encoded data removed]",
            "text/plain": [
              "<Figure size 432x288 with 1 Axes>"
            ]
          },
          "metadata": {
            "tags": [],
            "needs_background": "light"
          }
        }
      ]
    },
    {
      "cell_type": "code",
      "metadata": {
        "id": "szpxoY0CUIwo",
        "colab_type": "code",
        "colab": {
          "base_uri": "https://localhost:8080/",
          "height": 101
        },
        "outputId": "cec4d29d-e50e-4bfb-c8b6-93de69c5eb11"
      },
      "source": [
        "import pandas as pd\n",
        "col1=\"toxic\"\n",
        "col2=\"severe_toxic\"\n",
        "confusion_matrix = pd.crosstab(train[col1], train[col2])\n",
        "print(\"Confusion matrix between toxic and severe toxic:\")\n",
        "print(confusion_matrix)\n",
        "# new_corr=cramers_corrected_stat(confusion_matrix)\n",
        "# print(\"The correlation between Toxic and Severe toxic using Cramer's stat=\",new_corr)"
      ],
      "execution_count": 10,
      "outputs": [
        {
          "output_type": "stream",
          "text": [
            "Confusion matrix between toxic and severe toxic:\n",
            "severe_toxic       0     1\n",
            "toxic                     \n",
            "0             144277     0\n",
            "1              13699  1595\n"
          ],
          "name": "stdout"
        }
      ]
    },
    {
      "cell_type": "code",
      "metadata": {
        "id": "QohaY_Q4MnAj",
        "colab_type": "code",
        "colab": {
          "base_uri": "https://localhost:8080/",
          "height": 84
        },
        "outputId": "4e8f827d-ee38-4b63-df36-5bdc348d2761"
      },
      "source": [
        "import re\n",
        "from nltk.stem import WordNetLemmatizer\n",
        "from nltk.corpus import stopwords\n",
        "import nltk\n",
        "nltk.download('stopwords')\n",
        "import nltk\n",
        "nltk.download('wordnet')\n",
        "\n",
        "stop_words=set(stopwords.words(\"english\"))\n",
        "lemmatizer=WordNetLemmatizer()\n",
        "\n",
        "def clean_text(text):\n",
        "  text = re.sub(r'[^\\w\\s]','',text, re.UNICODE)\n",
        "  text = text.lower()\n",
        "  text = [lemmatizer.lemmatize(token) for token in text.split(\" \")]\n",
        "  text = [lemmatizer.lemmatize(token, \"v\") for token in text]\n",
        "  text = [word for word in text if not word in stop_words]\n",
        "  text = \" \".join(text)\n",
        "  return text\n",
        "\n",
        "train['Processed_Reviews'] = train.comment_text.apply(lambda x: clean_text(x))"
      ],
      "execution_count": 11,
      "outputs": [
        {
          "output_type": "stream",
          "text": [
            "[nltk_data] Downloading package stopwords to /root/nltk_data...\n",
            "[nltk_data]   Unzipping corpora/stopwords.zip.\n",
            "[nltk_data] Downloading package wordnet to /root/nltk_data...\n",
            "[nltk_data]   Unzipping corpora/wordnet.zip.\n"
          ],
          "name": "stdout"
        }
      ]
    },
    {
      "cell_type": "code",
      "metadata": {
        "id": "_6XpvQMPUgN_",
        "colab_type": "code",
        "colab": {
          "base_uri": "https://localhost:8080/",
          "height": 195
        },
        "outputId": "75e30273-a59e-47ba-dff0-a54aa116b460"
      },
      "source": [
        "train.head()"
      ],
      "execution_count": 12,
      "outputs": [
        {
          "output_type": "execute_result",
          "data": {
            "text/html": [
              "<div>\n",
              "<style scoped>\n",
              "    .dataframe tbody tr th:only-of-type {\n",
              "        vertical-align: middle;\n",
              "    }\n",
              "\n",
              "    .dataframe tbody tr th {\n",
              "        vertical-align: top;\n",
              "    }\n",
              "\n",
              "    .dataframe thead th {\n",
              "        text-align: right;\n",
              "    }\n",
              "</style>\n",
              "<table border=\"1\" class=\"dataframe\">\n",
              "  <thead>\n",
              "    <tr style=\"text-align: right;\">\n",
              "      <th></th>\n",
              "      <th>id</th>\n",
              "      <th>comment_text</th>\n",
              "      <th>toxic</th>\n",
              "      <th>severe_toxic</th>\n",
              "      <th>obscene</th>\n",
              "      <th>threat</th>\n",
              "      <th>insult</th>\n",
              "      <th>identity_hate</th>\n",
              "      <th>Processed_Reviews</th>\n",
              "    </tr>\n",
              "  </thead>\n",
              "  <tbody>\n",
              "    <tr>\n",
              "      <th>0</th>\n",
              "      <td>0000997932d777bf</td>\n",
              "      <td>Explanation\\nWhy the edits made under my usern...</td>\n",
              "      <td>0</td>\n",
              "      <td>0</td>\n",
              "      <td>0</td>\n",
              "      <td>0</td>\n",
              "      <td>0</td>\n",
              "      <td>0</td>\n",
              "      <td>explanation\\nwhy edit make username hardcore m...</td>\n",
              "    </tr>\n",
              "    <tr>\n",
              "      <th>1</th>\n",
              "      <td>000103f0d9cfb60f</td>\n",
              "      <td>D'aww! He matches this background colour I'm s...</td>\n",
              "      <td>0</td>\n",
              "      <td>0</td>\n",
              "      <td>0</td>\n",
              "      <td>0</td>\n",
              "      <td>0</td>\n",
              "      <td>0</td>\n",
              "      <td>daww match background colour im seemingly stic...</td>\n",
              "    </tr>\n",
              "    <tr>\n",
              "      <th>2</th>\n",
              "      <td>000113f07ec002fd</td>\n",
              "      <td>Hey man, I'm really not trying to edit war. It...</td>\n",
              "      <td>0</td>\n",
              "      <td>0</td>\n",
              "      <td>0</td>\n",
              "      <td>0</td>\n",
              "      <td>0</td>\n",
              "      <td>0</td>\n",
              "      <td>hey man im really try edit war guy constantly ...</td>\n",
              "    </tr>\n",
              "    <tr>\n",
              "      <th>3</th>\n",
              "      <td>0001b41b1c6bb37e</td>\n",
              "      <td>\"\\nMore\\nI can't make any real suggestions on ...</td>\n",
              "      <td>0</td>\n",
              "      <td>0</td>\n",
              "      <td>0</td>\n",
              "      <td>0</td>\n",
              "      <td>0</td>\n",
              "      <td>0</td>\n",
              "      <td>\\nmore\\ni cant make real suggestion improvemen...</td>\n",
              "    </tr>\n",
              "    <tr>\n",
              "      <th>4</th>\n",
              "      <td>0001d958c54c6e35</td>\n",
              "      <td>You, sir, are my hero. Any chance you remember...</td>\n",
              "      <td>0</td>\n",
              "      <td>0</td>\n",
              "      <td>0</td>\n",
              "      <td>0</td>\n",
              "      <td>0</td>\n",
              "      <td>0</td>\n",
              "      <td>sir hero chance remember page thats</td>\n",
              "    </tr>\n",
              "  </tbody>\n",
              "</table>\n",
              "</div>"
            ],
            "text/plain": [
              "                 id  ...                                  Processed_Reviews\n",
              "0  0000997932d777bf  ...  explanation\\nwhy edit make username hardcore m...\n",
              "1  000103f0d9cfb60f  ...  daww match background colour im seemingly stic...\n",
              "2  000113f07ec002fd  ...  hey man im really try edit war guy constantly ...\n",
              "3  0001b41b1c6bb37e  ...  \\nmore\\ni cant make real suggestion improvemen...\n",
              "4  0001d958c54c6e35  ...                sir hero chance remember page thats\n",
              "\n",
              "[5 rows x 9 columns]"
            ]
          },
          "metadata": {
            "tags": []
          },
          "execution_count": 12
        }
      ]
    },
    {
      "cell_type": "code",
      "metadata": {
        "id": "Gx2ULBKBvell",
        "colab_type": "code",
        "colab": {}
      },
      "source": [
        "# max_features = 20000 \n",
        "# maxlen = 100 \n",
        "\n",
        "# list_sentences_train = train[\"comment_text\"].fillna(\"_na_\").values\n",
        "# list_classes = [\"toxic\", \"severe_toxic\", \"obscene\", \"threat\", \"insult\", \"identity_hate\"]\n",
        "# y = train[list_classes].values\n",
        "# list_sentences_test = test[\"comment_text\"].fillna(\"_na_\").values\n",
        "\n",
        "# tokenizer = Tokenizer(num_words=max_features)\n",
        "# tokenizer.fit_on_texts(list(list_sentences_train))\n",
        "# list_tokenized_train = tokenizer.texts_to_sequences(list_sentences_train)\n",
        "# list_tokenized_test = tokenizer.texts_to_sequences(list_sentences_test)\n",
        "# X_t = pad_sequences(list_tokenized_train, maxlen=maxlen)\n",
        "# X_te = pad_sequences(list_tokenized_test, maxlen=maxlen)"
      ],
      "execution_count": null,
      "outputs": []
    },
    {
      "cell_type": "code",
      "metadata": {
        "id": "c1pdDbi4waPa",
        "colab_type": "code",
        "colab": {}
      },
      "source": [
        "# inp = Input(shape=(maxlen,))\n",
        "# x = Embedding(max_features, embed_size)(inp)\n",
        "# x = Bidirectional(LSTM(50, return_sequences=True, dropout=0.1, recurrent_dropout=0.1))(x)\n",
        "# x = GlobalMaxPool1D()(x)\n",
        "# x = Dense(50, activation=\"relu\")(x)\n",
        "# x = Dropout(0.1)(x)\n",
        "# x = Dense(6, activation=\"sigmoid\")(x)\n",
        "# model = Model(inputs=inp, outputs=x)\n",
        "# model.compile(loss='binary_crossentropy', optimizer='adam', metrics=['accuracy'])"
      ],
      "execution_count": null,
      "outputs": []
    },
    {
      "cell_type": "code",
      "metadata": {
        "id": "y1VWHs96wiF_",
        "colab_type": "code",
        "colab": {}
      },
      "source": [
        "# model.fit(X_t, y, batch_size=1024, epochs=1, validation_split=0.1);"
      ],
      "execution_count": null,
      "outputs": []
    },
    {
      "cell_type": "code",
      "metadata": {
        "id": "V-xkVcIywq3b",
        "colab_type": "code",
        "colab": {}
      },
      "source": [
        "# y_test = model.predict([X_te], batch_size=1024, verbose=1)\n",
        "# sample[list_classes] = y_test"
      ],
      "execution_count": null,
      "outputs": []
    },
    {
      "cell_type": "code",
      "metadata": {
        "id": "A_yYCiE6zSf5",
        "colab_type": "code",
        "colab": {}
      },
      "source": [
        "# sample[list_classes] = y_test"
      ],
      "execution_count": null,
      "outputs": []
    },
    {
      "cell_type": "code",
      "metadata": {
        "id": "PJ0GXdyjUkmh",
        "colab_type": "code",
        "colab": {
          "base_uri": "https://localhost:8080/",
          "height": 34
        },
        "outputId": "a6790ed5-38ff-43ad-fcb3-9198c6b253b7"
      },
      "source": [
        "train.Processed_Reviews.apply(lambda x: len(x.split(\" \"))).mean()"
      ],
      "execution_count": 14,
      "outputs": [
        {
          "output_type": "execute_result",
          "data": {
            "text/plain": [
              "38.0228048956264"
            ]
          },
          "metadata": {
            "tags": []
          },
          "execution_count": 14
        }
      ]
    },
    {
      "cell_type": "code",
      "metadata": {
        "id": "c8F-m_HBJbcj",
        "colab_type": "code",
        "colab": {}
      },
      "source": [
        "list_classes = [\"toxic\", \"severe_toxic\", \"obscene\", \"threat\", \"insult\", \"identity_hate\"]\n",
        "y = train[list_classes].values"
      ],
      "execution_count": 15,
      "outputs": []
    },
    {
      "cell_type": "code",
      "metadata": {
        "id": "RSCUhEPFUqRH",
        "colab_type": "code",
        "colab": {
          "base_uri": "https://localhost:8080/",
          "height": 188
        },
        "outputId": "9a8ae256-c8e4-457d-c945-d30b5cccb933"
      },
      "source": [
        "from keras.preprocessing.text import Tokenizer \n",
        "from keras.preprocessing.sequence import pad_sequences\n",
        "from keras.models import Model,Sequential\n",
        "from keras.layers import Dense,Input,LSTM,Embedding,Dropout,Activation,GRU,Flatten\n",
        "from keras.layers import Bidirectional,GlobalMaxPool1D\n",
        "from keras.layers import Convolution1D\n",
        "from keras import initializers, regularizers, constraints, optimizers, layers\n",
        "from keras.regularizers import l2\n",
        "\n",
        "\n",
        "max_features=20000\n",
        "tokenizer=Tokenizer(num_words=max_features)\n",
        "tokenizer.fit_on_texts(train['Processed_Reviews'])\n",
        "list_tokenized_train=tokenizer.texts_to_sequences(train['Processed_Reviews'])\n",
        "\n",
        "\n",
        "max_len=50\n",
        "x_train=pad_sequences(list_tokenized_train,maxlen=max_len)\n",
        "y_train=y\n",
        "\n",
        "from sklearn.model_selection import train_test_split\n",
        "x_train,x_test,y_train,y_test=train_test_split(x_train,y_train,test_size=0.1,random_state=42)\n",
        "\n",
        "embed_size = 128\n",
        "# model = Sequential()\n",
        "# model.add(Embedding(max_features, embed_size))\n",
        "# model.add(Bidirectional(LSTM(32, return_sequences = True)))\n",
        "# model.add(GlobalMaxPool1D())\n",
        "# model.add(Dense(20, activation=\"relu\"))\n",
        "# model.add(Dropout(0.05))\n",
        "# model.add(Dense(6, activation=\"sigmoid\"))\n",
        "# model.compile(loss='binary_crossentropy', optimizer='adam', metrics=['accuracy'])\n",
        "\n",
        "# embedding_matrix = np.random.normal(0.020940498, 0.6441043, (nb_words, embed_size))\n",
        "\n",
        "model=Sequential()\n",
        "model.add(Embedding(max_features, embed_size))\n",
        "model.add(Bidirectional(LSTM(50, return_sequences=True, dropout=0.1, recurrent_dropout=0.1)))\n",
        "model.add(GlobalMaxPool1D())\n",
        "model.add(Dense(50, activation=\"relu\"))\n",
        "model.add(Dropout(0.1))\n",
        "model.add(Dense(6, activation=\"sigmoid\",kernel_regularizer=l2(0.01), bias_regularizer=l2(0.01)))\n",
        "model.compile(loss='binary_crossentropy', optimizer='adam', metrics=['accuracy'])\n",
        "\n",
        "batch_size=1024\n",
        "epochs=2\n",
        "model.fit(x_train,y_train,batch_size=batch_size,epochs=epochs,validation_data=(x_test, y_test))"
      ],
      "execution_count": 16,
      "outputs": [
        {
          "output_type": "stream",
          "text": [
            "Using TensorFlow backend.\n",
            "/usr/local/lib/python3.6/dist-packages/tensorflow/python/framework/indexed_slices.py:434: UserWarning: Converting sparse IndexedSlices to a dense Tensor of unknown shape. This may consume a large amount of memory.\n",
            "  \"Converting sparse IndexedSlices to a dense Tensor of unknown shape. \"\n"
          ],
          "name": "stderr"
        },
        {
          "output_type": "stream",
          "text": [
            "Train on 143613 samples, validate on 15958 samples\n",
            "Epoch 1/2\n",
            "143613/143613 [==============================] - 158s 1ms/step - loss: 0.2915 - accuracy: 0.9336 - val_loss: 0.1721 - val_accuracy: 0.9641\n",
            "Epoch 2/2\n",
            "143613/143613 [==============================] - 155s 1ms/step - loss: 0.1137 - accuracy: 0.9728 - val_loss: 0.0789 - val_accuracy: 0.9801\n"
          ],
          "name": "stdout"
        },
        {
          "output_type": "execute_result",
          "data": {
            "text/plain": [
              "<keras.callbacks.callbacks.History at 0x7fca8b33c390>"
            ]
          },
          "metadata": {
            "tags": []
          },
          "execution_count": 16
        }
      ]
    },
    {
      "cell_type": "code",
      "metadata": {
        "id": "2jsWJ6CfZE1S",
        "colab_type": "code",
        "colab": {}
      },
      "source": [
        "\n",
        "\n",
        "# inp = Input(shape=(maxlen,))\n",
        "# x = Embedding(max_features, embed_size, weights=[embedding_matrix])(inp)\n",
        "# x = Bidirectional(LSTM(50, return_sequences=True, dropout=0.1, recurrent_dropout=0.1))(x)\n",
        "# x = GlobalMaxPool1D()(x)\n",
        "# x = Dense(50, activation=\"relu\")(x)\n",
        "# x = Dropout(0.1)(x)\n",
        "# x = Dense(6, activation=\"sigmoid\")(x)\n",
        "# model = Model(inputs=inp, outputs=x)\n",
        "# model.compile(loss='binary_crossentropy', optimizer='adam', metrics=['accuracy'])"
      ],
      "execution_count": null,
      "outputs": []
    },
    {
      "cell_type": "code",
      "metadata": {
        "id": "1DN2jth7WxvG",
        "colab_type": "code",
        "colab": {
          "base_uri": "https://localhost:8080/",
          "height": 353
        },
        "outputId": "ae02e765-2b04-4a19-8013-bd7531523d6d"
      },
      "source": [
        "model.summary()"
      ],
      "execution_count": 17,
      "outputs": [
        {
          "output_type": "stream",
          "text": [
            "Model: \"sequential_1\"\n",
            "_________________________________________________________________\n",
            "Layer (type)                 Output Shape              Param #   \n",
            "=================================================================\n",
            "embedding_1 (Embedding)      (None, None, 128)         2560000   \n",
            "_________________________________________________________________\n",
            "bidirectional_1 (Bidirection (None, None, 100)         71600     \n",
            "_________________________________________________________________\n",
            "global_max_pooling1d_1 (Glob (None, 100)               0         \n",
            "_________________________________________________________________\n",
            "dense_1 (Dense)              (None, 50)                5050      \n",
            "_________________________________________________________________\n",
            "dropout_1 (Dropout)          (None, 50)                0         \n",
            "_________________________________________________________________\n",
            "dense_2 (Dense)              (None, 6)                 306       \n",
            "=================================================================\n",
            "Total params: 2,636,956\n",
            "Trainable params: 2,636,956\n",
            "Non-trainable params: 0\n",
            "_________________________________________________________________\n"
          ],
          "name": "stdout"
        }
      ]
    },
    {
      "cell_type": "code",
      "metadata": {
        "id": "yf7xarE8M-d5",
        "colab_type": "code",
        "colab": {
          "base_uri": "https://localhost:8080/",
          "height": 195
        },
        "outputId": "c82f74d1-7947-49bd-ba7e-5a5e52ba86f6"
      },
      "source": [
        "test.head()"
      ],
      "execution_count": 18,
      "outputs": [
        {
          "output_type": "execute_result",
          "data": {
            "text/html": [
              "<div>\n",
              "<style scoped>\n",
              "    .dataframe tbody tr th:only-of-type {\n",
              "        vertical-align: middle;\n",
              "    }\n",
              "\n",
              "    .dataframe tbody tr th {\n",
              "        vertical-align: top;\n",
              "    }\n",
              "\n",
              "    .dataframe thead th {\n",
              "        text-align: right;\n",
              "    }\n",
              "</style>\n",
              "<table border=\"1\" class=\"dataframe\">\n",
              "  <thead>\n",
              "    <tr style=\"text-align: right;\">\n",
              "      <th></th>\n",
              "      <th>id</th>\n",
              "      <th>comment_text</th>\n",
              "    </tr>\n",
              "  </thead>\n",
              "  <tbody>\n",
              "    <tr>\n",
              "      <th>0</th>\n",
              "      <td>00001cee341fdb12</td>\n",
              "      <td>Yo bitch Ja Rule is more succesful then you'll...</td>\n",
              "    </tr>\n",
              "    <tr>\n",
              "      <th>1</th>\n",
              "      <td>0000247867823ef7</td>\n",
              "      <td>== From RfC == \\n\\n The title is fine as it is...</td>\n",
              "    </tr>\n",
              "    <tr>\n",
              "      <th>2</th>\n",
              "      <td>00013b17ad220c46</td>\n",
              "      <td>\" \\n\\n == Sources == \\n\\n * Zawe Ashton on Lap...</td>\n",
              "    </tr>\n",
              "    <tr>\n",
              "      <th>3</th>\n",
              "      <td>00017563c3f7919a</td>\n",
              "      <td>:If you have a look back at the source, the in...</td>\n",
              "    </tr>\n",
              "    <tr>\n",
              "      <th>4</th>\n",
              "      <td>00017695ad8997eb</td>\n",
              "      <td>I don't anonymously edit articles at all.</td>\n",
              "    </tr>\n",
              "  </tbody>\n",
              "</table>\n",
              "</div>"
            ],
            "text/plain": [
              "                 id                                       comment_text\n",
              "0  00001cee341fdb12  Yo bitch Ja Rule is more succesful then you'll...\n",
              "1  0000247867823ef7  == From RfC == \\n\\n The title is fine as it is...\n",
              "2  00013b17ad220c46  \" \\n\\n == Sources == \\n\\n * Zawe Ashton on Lap...\n",
              "3  00017563c3f7919a  :If you have a look back at the source, the in...\n",
              "4  00017695ad8997eb          I don't anonymously edit articles at all."
            ]
          },
          "metadata": {
            "tags": []
          },
          "execution_count": 18
        }
      ]
    },
    {
      "cell_type": "code",
      "metadata": {
        "id": "dEuU2tx0NCgj",
        "colab_type": "code",
        "colab": {
          "base_uri": "https://localhost:8080/",
          "height": 195
        },
        "outputId": "21d5d944-607c-47dd-aa52-7f749ae62bb2"
      },
      "source": [
        "test[\"comment_text\"]=test.comment_text.apply(lambda x: clean_text(x))\n",
        "test.head()"
      ],
      "execution_count": 19,
      "outputs": [
        {
          "output_type": "execute_result",
          "data": {
            "text/html": [
              "<div>\n",
              "<style scoped>\n",
              "    .dataframe tbody tr th:only-of-type {\n",
              "        vertical-align: middle;\n",
              "    }\n",
              "\n",
              "    .dataframe tbody tr th {\n",
              "        vertical-align: top;\n",
              "    }\n",
              "\n",
              "    .dataframe thead th {\n",
              "        text-align: right;\n",
              "    }\n",
              "</style>\n",
              "<table border=\"1\" class=\"dataframe\">\n",
              "  <thead>\n",
              "    <tr style=\"text-align: right;\">\n",
              "      <th></th>\n",
              "      <th>id</th>\n",
              "      <th>comment_text</th>\n",
              "    </tr>\n",
              "  </thead>\n",
              "  <tbody>\n",
              "    <tr>\n",
              "      <th>0</th>\n",
              "      <td>00001cee341fdb12</td>\n",
              "      <td>yo bitch ja rule succesful youll ever whats ha...</td>\n",
              "    </tr>\n",
              "    <tr>\n",
              "      <th>1</th>\n",
              "      <td>0000247867823ef7</td>\n",
              "      <td>rfc  \\n\\n title fine imo</td>\n",
              "    </tr>\n",
              "    <tr>\n",
              "      <th>2</th>\n",
              "      <td>00013b17ad220c46</td>\n",
              "      <td>\\n\\n  source  \\n\\n  zawe ashton lapland</td>\n",
              "    </tr>\n",
              "    <tr>\n",
              "      <th>3</th>\n",
              "      <td>00017563c3f7919a</td>\n",
              "      <td>look back source information update wa correct...</td>\n",
              "    </tr>\n",
              "    <tr>\n",
              "      <th>4</th>\n",
              "      <td>00017695ad8997eb</td>\n",
              "      <td>dont anonymously edit article</td>\n",
              "    </tr>\n",
              "  </tbody>\n",
              "</table>\n",
              "</div>"
            ],
            "text/plain": [
              "                 id                                       comment_text\n",
              "0  00001cee341fdb12  yo bitch ja rule succesful youll ever whats ha...\n",
              "1  0000247867823ef7                           rfc  \\n\\n title fine imo\n",
              "2  00013b17ad220c46       \\n\\n  source  \\n\\n  zawe ashton lapland     \n",
              "3  00017563c3f7919a  look back source information update wa correct...\n",
              "4  00017695ad8997eb                      dont anonymously edit article"
            ]
          },
          "metadata": {
            "tags": []
          },
          "execution_count": 19
        }
      ]
    },
    {
      "cell_type": "code",
      "metadata": {
        "id": "wi6IZeedKZ56",
        "colab_type": "code",
        "colab": {
          "base_uri": "https://localhost:8080/",
          "height": 34
        },
        "outputId": "c6234e52-2bd0-411c-ac55-1925e7ded9a1"
      },
      "source": [
        "max_features=6000\n",
        "tokenizer=Tokenizer(num_words=max_features)\n",
        "tokenizer.fit_on_texts(test['comment_text'])\n",
        "list_tokenized_train=tokenizer.texts_to_sequences(test['comment_text'])\n",
        "\n",
        "\n",
        "max_len=50\n",
        "x_test=pad_sequences(list_tokenized_train,maxlen=max_len)\n",
        "y_test = model.predict([x_test], batch_size=100, verbose=1)"
      ],
      "execution_count": 20,
      "outputs": [
        {
          "output_type": "stream",
          "text": [
            "153164/153164 [==============================] - 46s 303us/step\n"
          ],
          "name": "stdout"
        }
      ]
    },
    {
      "cell_type": "code",
      "metadata": {
        "id": "zuqeR8eoO8_t",
        "colab_type": "code",
        "colab": {}
      },
      "source": [
        "sample[list_classes] = y_test"
      ],
      "execution_count": 21,
      "outputs": []
    },
    {
      "cell_type": "code",
      "metadata": {
        "id": "3O3SSJiaXLUF",
        "colab_type": "code",
        "colab": {
          "base_uri": "https://localhost:8080/",
          "height": 402
        },
        "outputId": "7d9b516f-2cc0-438f-de1a-84692212a4a0"
      },
      "source": [
        "sample.head(630)"
      ],
      "execution_count": 32,
      "outputs": [
        {
          "output_type": "execute_result",
          "data": {
            "text/html": [
              "<div>\n",
              "<style scoped>\n",
              "    .dataframe tbody tr th:only-of-type {\n",
              "        vertical-align: middle;\n",
              "    }\n",
              "\n",
              "    .dataframe tbody tr th {\n",
              "        vertical-align: top;\n",
              "    }\n",
              "\n",
              "    .dataframe thead th {\n",
              "        text-align: right;\n",
              "    }\n",
              "</style>\n",
              "<table border=\"1\" class=\"dataframe\">\n",
              "  <thead>\n",
              "    <tr style=\"text-align: right;\">\n",
              "      <th></th>\n",
              "      <th>id</th>\n",
              "      <th>toxic</th>\n",
              "      <th>severe_toxic</th>\n",
              "      <th>obscene</th>\n",
              "      <th>threat</th>\n",
              "      <th>insult</th>\n",
              "      <th>identity_hate</th>\n",
              "    </tr>\n",
              "  </thead>\n",
              "  <tbody>\n",
              "    <tr>\n",
              "      <th>0</th>\n",
              "      <td>00001cee341fdb12</td>\n",
              "      <td>0.029106</td>\n",
              "      <td>0.001860</td>\n",
              "      <td>0.008069</td>\n",
              "      <td>0.001805</td>\n",
              "      <td>0.007728</td>\n",
              "      <td>0.002905</td>\n",
              "    </tr>\n",
              "    <tr>\n",
              "      <th>1</th>\n",
              "      <td>0000247867823ef7</td>\n",
              "      <td>0.016677</td>\n",
              "      <td>0.001768</td>\n",
              "      <td>0.005609</td>\n",
              "      <td>0.001886</td>\n",
              "      <td>0.005529</td>\n",
              "      <td>0.002740</td>\n",
              "    </tr>\n",
              "    <tr>\n",
              "      <th>2</th>\n",
              "      <td>00013b17ad220c46</td>\n",
              "      <td>0.073386</td>\n",
              "      <td>0.005484</td>\n",
              "      <td>0.021978</td>\n",
              "      <td>0.003947</td>\n",
              "      <td>0.019771</td>\n",
              "      <td>0.006797</td>\n",
              "    </tr>\n",
              "    <tr>\n",
              "      <th>3</th>\n",
              "      <td>00017563c3f7919a</td>\n",
              "      <td>0.016488</td>\n",
              "      <td>0.001510</td>\n",
              "      <td>0.005206</td>\n",
              "      <td>0.001680</td>\n",
              "      <td>0.005216</td>\n",
              "      <td>0.002449</td>\n",
              "    </tr>\n",
              "    <tr>\n",
              "      <th>4</th>\n",
              "      <td>00017695ad8997eb</td>\n",
              "      <td>0.010906</td>\n",
              "      <td>0.001304</td>\n",
              "      <td>0.003826</td>\n",
              "      <td>0.001543</td>\n",
              "      <td>0.003872</td>\n",
              "      <td>0.002151</td>\n",
              "    </tr>\n",
              "    <tr>\n",
              "      <th>...</th>\n",
              "      <td>...</td>\n",
              "      <td>...</td>\n",
              "      <td>...</td>\n",
              "      <td>...</td>\n",
              "      <td>...</td>\n",
              "      <td>...</td>\n",
              "      <td>...</td>\n",
              "    </tr>\n",
              "    <tr>\n",
              "      <th>644</th>\n",
              "      <td>0113b73e0b5168d8</td>\n",
              "      <td>0.011852</td>\n",
              "      <td>0.001368</td>\n",
              "      <td>0.003984</td>\n",
              "      <td>0.001556</td>\n",
              "      <td>0.004045</td>\n",
              "      <td>0.002224</td>\n",
              "    </tr>\n",
              "    <tr>\n",
              "      <th>645</th>\n",
              "      <td>0113dcc1d0620954</td>\n",
              "      <td>0.087818</td>\n",
              "      <td>0.004463</td>\n",
              "      <td>0.024383</td>\n",
              "      <td>0.003809</td>\n",
              "      <td>0.021819</td>\n",
              "      <td>0.006516</td>\n",
              "    </tr>\n",
              "    <tr>\n",
              "      <th>646</th>\n",
              "      <td>0113e474b8eb9407</td>\n",
              "      <td>0.005954</td>\n",
              "      <td>0.000817</td>\n",
              "      <td>0.001985</td>\n",
              "      <td>0.001136</td>\n",
              "      <td>0.002073</td>\n",
              "      <td>0.001441</td>\n",
              "    </tr>\n",
              "    <tr>\n",
              "      <th>647</th>\n",
              "      <td>0114509409588767</td>\n",
              "      <td>0.051776</td>\n",
              "      <td>0.002731</td>\n",
              "      <td>0.012430</td>\n",
              "      <td>0.002441</td>\n",
              "      <td>0.011419</td>\n",
              "      <td>0.004055</td>\n",
              "    </tr>\n",
              "    <tr>\n",
              "      <th>648</th>\n",
              "      <td>0114ae82c53101a9</td>\n",
              "      <td>0.057364</td>\n",
              "      <td>0.003863</td>\n",
              "      <td>0.017195</td>\n",
              "      <td>0.002982</td>\n",
              "      <td>0.015608</td>\n",
              "      <td>0.005090</td>\n",
              "    </tr>\n",
              "  </tbody>\n",
              "</table>\n",
              "<p>649 rows × 7 columns</p>\n",
              "</div>"
            ],
            "text/plain": [
              "                   id     toxic  ...    insult  identity_hate\n",
              "0    00001cee341fdb12  0.029106  ...  0.007728       0.002905\n",
              "1    0000247867823ef7  0.016677  ...  0.005529       0.002740\n",
              "2    00013b17ad220c46  0.073386  ...  0.019771       0.006797\n",
              "3    00017563c3f7919a  0.016488  ...  0.005216       0.002449\n",
              "4    00017695ad8997eb  0.010906  ...  0.003872       0.002151\n",
              "..                ...       ...  ...       ...            ...\n",
              "644  0113b73e0b5168d8  0.011852  ...  0.004045       0.002224\n",
              "645  0113dcc1d0620954  0.087818  ...  0.021819       0.006516\n",
              "646  0113e474b8eb9407  0.005954  ...  0.002073       0.001441\n",
              "647  0114509409588767  0.051776  ...  0.011419       0.004055\n",
              "648  0114ae82c53101a9  0.057364  ...  0.015608       0.005090\n",
              "\n",
              "[649 rows x 7 columns]"
            ]
          },
          "metadata": {
            "tags": []
          },
          "execution_count": 32
        }
      ]
    },
    {
      "cell_type": "code",
      "metadata": {
        "id": "tIdVlWaC3azI",
        "colab_type": "code",
        "colab": {}
      },
      "source": [
        "ids = sample['id'].str()\n",
        "\n",
        "submission = pd.DataFrame({'id': ids, 'toxic':sample['toxic'],'severe_toxic':sample['severe_toxic'],'obscene':sample['obscene'],'threat':sample['threat'],'insult':sample['insult'],'identity_hate':sample['identity_hate']})"
      ],
      "execution_count": null,
      "outputs": []
    },
    {
      "cell_type": "code",
      "metadata": {
        "id": "Azk9BKpD4Mi_",
        "colab_type": "code",
        "colab": {
          "base_uri": "https://localhost:8080/",
          "height": 195
        },
        "outputId": "227cb7ee-035b-4ef2-968b-0bce5fc0ce37"
      },
      "source": [
        "submission.head()"
      ],
      "execution_count": 26,
      "outputs": [
        {
          "output_type": "execute_result",
          "data": {
            "text/html": [
              "<div>\n",
              "<style scoped>\n",
              "    .dataframe tbody tr th:only-of-type {\n",
              "        vertical-align: middle;\n",
              "    }\n",
              "\n",
              "    .dataframe tbody tr th {\n",
              "        vertical-align: top;\n",
              "    }\n",
              "\n",
              "    .dataframe thead th {\n",
              "        text-align: right;\n",
              "    }\n",
              "</style>\n",
              "<table border=\"1\" class=\"dataframe\">\n",
              "  <thead>\n",
              "    <tr style=\"text-align: right;\">\n",
              "      <th></th>\n",
              "      <th>id</th>\n",
              "      <th>toxic</th>\n",
              "      <th>severe_toxic</th>\n",
              "      <th>obscene</th>\n",
              "      <th>threat</th>\n",
              "      <th>insult</th>\n",
              "      <th>identity_hate</th>\n",
              "    </tr>\n",
              "  </thead>\n",
              "  <tbody>\n",
              "    <tr>\n",
              "      <th>0</th>\n",
              "      <td>00001cee341fdb12</td>\n",
              "      <td>0.029106</td>\n",
              "      <td>0.001860</td>\n",
              "      <td>0.008069</td>\n",
              "      <td>0.001805</td>\n",
              "      <td>0.007728</td>\n",
              "      <td>0.002905</td>\n",
              "    </tr>\n",
              "    <tr>\n",
              "      <th>1</th>\n",
              "      <td>0000247867823ef7</td>\n",
              "      <td>0.016677</td>\n",
              "      <td>0.001768</td>\n",
              "      <td>0.005609</td>\n",
              "      <td>0.001886</td>\n",
              "      <td>0.005529</td>\n",
              "      <td>0.002740</td>\n",
              "    </tr>\n",
              "    <tr>\n",
              "      <th>2</th>\n",
              "      <td>00013b17ad220c46</td>\n",
              "      <td>0.073386</td>\n",
              "      <td>0.005484</td>\n",
              "      <td>0.021978</td>\n",
              "      <td>0.003947</td>\n",
              "      <td>0.019771</td>\n",
              "      <td>0.006797</td>\n",
              "    </tr>\n",
              "    <tr>\n",
              "      <th>3</th>\n",
              "      <td>00017563c3f7919a</td>\n",
              "      <td>0.016488</td>\n",
              "      <td>0.001510</td>\n",
              "      <td>0.005206</td>\n",
              "      <td>0.001680</td>\n",
              "      <td>0.005216</td>\n",
              "      <td>0.002449</td>\n",
              "    </tr>\n",
              "    <tr>\n",
              "      <th>4</th>\n",
              "      <td>00017695ad8997eb</td>\n",
              "      <td>0.010906</td>\n",
              "      <td>0.001304</td>\n",
              "      <td>0.003826</td>\n",
              "      <td>0.001543</td>\n",
              "      <td>0.003872</td>\n",
              "      <td>0.002151</td>\n",
              "    </tr>\n",
              "  </tbody>\n",
              "</table>\n",
              "</div>"
            ],
            "text/plain": [
              "                 id     toxic  severe_toxic  ...    threat    insult  identity_hate\n",
              "0  00001cee341fdb12  0.029106      0.001860  ...  0.001805  0.007728       0.002905\n",
              "1  0000247867823ef7  0.016677      0.001768  ...  0.001886  0.005529       0.002740\n",
              "2  00013b17ad220c46  0.073386      0.005484  ...  0.003947  0.019771       0.006797\n",
              "3  00017563c3f7919a  0.016488      0.001510  ...  0.001680  0.005216       0.002449\n",
              "4  00017695ad8997eb  0.010906      0.001304  ...  0.001543  0.003872       0.002151\n",
              "\n",
              "[5 rows x 7 columns]"
            ]
          },
          "metadata": {
            "tags": []
          },
          "execution_count": 26
        }
      ]
    },
    {
      "cell_type": "code",
      "metadata": {
        "id": "YpbZ9PsyFFJq",
        "colab_type": "code",
        "colab": {}
      },
      "source": [
        "sample.to_csv(\"sample.csv\")"
      ],
      "execution_count": 34,
      "outputs": []
    },
    {
      "cell_type": "code",
      "metadata": {
        "id": "OBuhGT8i5sx8",
        "colab_type": "code",
        "colab": {
          "base_uri": "https://localhost:8080/",
          "height": 34
        },
        "outputId": "c7909306-93a1-4d0d-98be-86f166586ff3"
      },
      "source": [
        "sample.shape"
      ],
      "execution_count": 35,
      "outputs": [
        {
          "output_type": "execute_result",
          "data": {
            "text/plain": [
              "(153164, 7)"
            ]
          },
          "metadata": {
            "tags": []
          },
          "execution_count": 35
        }
      ]
    },
    {
      "cell_type": "code",
      "metadata": {
        "id": "Fw__NJllL-q5",
        "colab_type": "code",
        "colab": {}
      },
      "source": [
        ""
      ],
      "execution_count": null,
      "outputs": []
    },
    {
      "cell_type": "code",
      "metadata": {
        "id": "iD1Du2voQjYy",
        "colab_type": "code",
        "colab": {}
      },
      "source": [
        "from google.colab import files\n",
        "files.download(\"submission.csv\")"
      ],
      "execution_count": null,
      "outputs": []
    }
  ]
}